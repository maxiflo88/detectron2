{
 "cells": [
  {
   "cell_type": "code",
   "execution_count": 50,
   "metadata": {},
   "outputs": [],
   "source": [
    "from detectron2.engine import DefaultPredictor\n",
    "from detectron2.config import get_cfg\n",
    "from detectron2.utils.visualizer import Visualizer\n",
    "from detectron2.data import MetadataCatalog\n",
    "import matplotlib.pyplot as plt\n",
    "from matplotlib.pyplot import imshow\n",
    "from detectron2 import model_zoo\n",
    "%matplotlib inline\n",
    "import os\n",
    "import cv2\n",
    "import numpy as np\n",
    "from PIL import ImageGrab \n",
    "# import some common detectron2 utilities\n",
    "\n",
    "\n",
    "\n",
    "BASE_DIR=os.getcwd()\n",
    "image_file=os.path.join(BASE_DIR, '1.jpg')\n",
    "im = cv2.imread(image_file)\n"
   ]
  },
  {
   "cell_type": "code",
   "execution_count": 80,
   "metadata": {},
   "outputs": [
    {
     "data": {
      "text/plain": [
       "['Base-RCNN-C4.yaml',\n",
       " 'Base-RCNN-DilatedC5.yaml',\n",
       " 'Base-RCNN-FPN.yaml',\n",
       " 'Base-RetinaNet.yaml',\n",
       " 'Cityscapes/mask_rcnn_R_50_FPN.yaml',\n",
       " 'COCO-Detection/faster_rcnn_R_101_C4_3x.yaml',\n",
       " 'COCO-Detection/faster_rcnn_R_101_DC5_3x.yaml',\n",
       " 'COCO-Detection/faster_rcnn_R_101_FPN_3x.yaml',\n",
       " 'COCO-Detection/faster_rcnn_R_50_C4_1x.yaml',\n",
       " 'COCO-Detection/faster_rcnn_R_50_C4_3x.yaml',\n",
       " 'COCO-Detection/faster_rcnn_R_50_DC5_1x.yaml',\n",
       " 'COCO-Detection/faster_rcnn_R_50_DC5_3x.yaml',\n",
       " 'COCO-Detection/faster_rcnn_R_50_FPN_1x.yaml',\n",
       " 'COCO-Detection/faster_rcnn_R_50_FPN_3x.yaml',\n",
       " 'COCO-Detection/faster_rcnn_X_101_32x8d_FPN_3x.yaml',\n",
       " 'COCO-Detection/fast_rcnn_R_50_FPN_1x.yaml',\n",
       " 'COCO-Detection/retinanet_R_101_FPN_3x.yaml',\n",
       " 'COCO-Detection/retinanet_R_50_FPN_1x.yaml',\n",
       " 'COCO-Detection/retinanet_R_50_FPN_3x.yaml',\n",
       " 'COCO-Detection/rpn_R_50_C4_1x.yaml',\n",
       " 'COCO-Detection/rpn_R_50_FPN_1x.yaml',\n",
       " 'COCO-InstanceSegmentation/mask_rcnn_R_101_C4_3x.yaml',\n",
       " 'COCO-InstanceSegmentation/mask_rcnn_R_101_DC5_3x.yaml',\n",
       " 'COCO-InstanceSegmentation/mask_rcnn_R_101_FPN_3x.yaml',\n",
       " 'COCO-InstanceSegmentation/mask_rcnn_R_50_C4_1x.yaml',\n",
       " 'COCO-InstanceSegmentation/mask_rcnn_R_50_C4_3x.yaml',\n",
       " 'COCO-InstanceSegmentation/mask_rcnn_R_50_DC5_1x.yaml',\n",
       " 'COCO-InstanceSegmentation/mask_rcnn_R_50_DC5_3x.yaml',\n",
       " 'COCO-InstanceSegmentation/mask_rcnn_R_50_FPN_1x.yaml',\n",
       " 'COCO-InstanceSegmentation/mask_rcnn_R_50_FPN_3x.yaml',\n",
       " 'COCO-InstanceSegmentation/mask_rcnn_X_101_32x8d_FPN_3x.yaml',\n",
       " 'COCO-Keypoints/Base-Keypoint-RCNN-FPN.yaml',\n",
       " 'COCO-Keypoints/keypoint_rcnn_R_101_FPN_3x.yaml',\n",
       " 'COCO-Keypoints/keypoint_rcnn_R_50_FPN_1x.yaml',\n",
       " 'COCO-Keypoints/keypoint_rcnn_R_50_FPN_3x.yaml',\n",
       " 'COCO-Keypoints/keypoint_rcnn_X_101_32x8d_FPN_3x.yaml',\n",
       " 'COCO-PanopticSegmentation/Base-Panoptic-FPN.yaml',\n",
       " 'COCO-PanopticSegmentation/panoptic_fpn_R_101_3x.yaml',\n",
       " 'COCO-PanopticSegmentation/panoptic_fpn_R_50_1x.yaml',\n",
       " 'COCO-PanopticSegmentation/panoptic_fpn_R_50_3x.yaml',\n",
       " 'Detectron1-Comparisons/faster_rcnn_R_50_FPN_noaug_1x.yaml',\n",
       " 'Detectron1-Comparisons/keypoint_rcnn_R_50_FPN_1x.yaml',\n",
       " 'Detectron1-Comparisons/mask_rcnn_R_50_FPN_noaug_1x.yaml',\n",
       " 'LVIS-InstanceSegmentation/mask_rcnn_R_101_FPN_1x.yaml',\n",
       " 'LVIS-InstanceSegmentation/mask_rcnn_R_50_FPN_1x.yaml',\n",
       " 'LVIS-InstanceSegmentation/mask_rcnn_X_101_32x8d_FPN_1x.yaml',\n",
       " 'Misc/cascade_mask_rcnn_R_50_FPN_1x.yaml',\n",
       " 'Misc/cascade_mask_rcnn_R_50_FPN_3x.yaml',\n",
       " 'Misc/cascade_mask_rcnn_X_152_32x8d_FPN_IN5k_gn_dconv.yaml',\n",
       " 'Misc/mask_rcnn_R_50_FPN_1x_cls_agnostic.yaml',\n",
       " 'Misc/mask_rcnn_R_50_FPN_1x_dconv_c3-c5.yaml',\n",
       " 'Misc/mask_rcnn_R_50_FPN_3x_dconv_c3-c5.yaml',\n",
       " 'Misc/mask_rcnn_R_50_FPN_3x_gn.yaml',\n",
       " 'Misc/mask_rcnn_R_50_FPN_3x_syncbn.yaml',\n",
       " 'Misc/panoptic_fpn_R_101_dconv_cascade_gn_3x.yaml',\n",
       " 'Misc/scratch_mask_rcnn_R_50_FPN_3x_gn.yaml',\n",
       " 'Misc/semantic_R_50_FPN_1x.yaml',\n",
       " 'PascalVOC-Detection/faster_rcnn_R_50_C4.yaml',\n",
       " 'PascalVOC-Detection/faster_rcnn_R_50_FPN.yaml',\n",
       " 'quick_schedules/fast_rcnn_R_50_FPN_inference_acc_test.yaml',\n",
       " 'quick_schedules/fast_rcnn_R_50_FPN_instant_test.yaml',\n",
       " 'quick_schedules/keypoint_rcnn_R_50_FPN_inference_acc_test.yaml',\n",
       " 'quick_schedules/keypoint_rcnn_R_50_FPN_instant_test.yaml',\n",
       " 'quick_schedules/keypoint_rcnn_R_50_FPN_normalized_training_acc_test.yaml',\n",
       " 'quick_schedules/keypoint_rcnn_R_50_FPN_training_acc_test.yaml',\n",
       " 'quick_schedules/mask_rcnn_R_50_C4_GCN_instant_test.yaml',\n",
       " 'quick_schedules/mask_rcnn_R_50_C4_GCV_instant_test.yaml',\n",
       " 'quick_schedules/mask_rcnn_R_50_C4_inference_acc_test.yaml',\n",
       " 'quick_schedules/mask_rcnn_R_50_C4_instant_test.yaml',\n",
       " 'quick_schedules/mask_rcnn_R_50_C4_training_acc_test.yaml',\n",
       " 'quick_schedules/mask_rcnn_R_50_DC5_inference_acc_test.yaml',\n",
       " 'quick_schedules/mask_rcnn_R_50_FPN_inference_acc_test.yaml',\n",
       " 'quick_schedules/mask_rcnn_R_50_FPN_instant_test.yaml',\n",
       " 'quick_schedules/mask_rcnn_R_50_FPN_training_acc_test.yaml',\n",
       " 'quick_schedules/panoptic_fpn_R_50_inference_acc_test.yaml',\n",
       " 'quick_schedules/panoptic_fpn_R_50_instant_test.yaml',\n",
       " 'quick_schedules/panoptic_fpn_R_50_training_acc_test.yaml',\n",
       " 'quick_schedules/retinanet_R_50_FPN_inference_acc_test.yaml',\n",
       " 'quick_schedules/retinanet_R_50_FPN_instant_test.yaml',\n",
       " 'quick_schedules/rpn_R_50_FPN_inference_acc_test.yaml',\n",
       " 'quick_schedules/rpn_R_50_FPN_instant_test.yaml',\n",
       " 'quick_schedules/semantic_R_50_FPN_inference_acc_test.yaml',\n",
       " 'quick_schedules/semantic_R_50_FPN_instant_test.yaml',\n",
       " 'quick_schedules/semantic_R_50_FPN_training_acc_test.yaml']"
      ]
     },
     "execution_count": 80,
     "metadata": {},
     "output_type": "execute_result"
    }
   ],
   "source": [
    "import glob\n",
    "CON_DIR=os.path.join(BASE_DIR, 'configs')\n",
    "yaml_files=[g.split(\"\\\\\")[-1] for g in glob.glob(os.path.join(CON_DIR, '*.yaml'))]\n",
    "for i in next(os.walk(CON_DIR))[1]:\n",
    "    [yaml_files.append(i.split(\"\\\\\", 4)[-1]) for i in glob.glob(os.path.join(CON_DIR, i, '*.yaml'))]\n",
    "yaml_files=[y.replace(\"\\\\\",\"/\") for y in yaml_files]\n",
    "yaml_files"
   ]
  },
  {
   "cell_type": "code",
   "execution_count": 88,
   "metadata": {},
   "outputs": [
    {
     "name": "stderr",
     "output_type": "stream",
     "text": [
      "Loading config G:\\segmentation\\detectron2\\detectron2\\model_zoo\\configs\\Base-RetinaNet.yaml with yaml.unsafe_load. Your machine may be at risk if the file contains malicious content.\n"
     ]
    },
    {
     "name": "stdout",
     "output_type": "stream",
     "text": [
      "0 : Base-RCNN-C4.yaml\n",
      "Base-RCNN-C4 not available in Model Zoo!\n",
      "1 : Base-RCNN-DilatedC5.yaml\n",
      "Base-RCNN-DilatedC5 not available in Model Zoo!\n",
      "2 : Base-RCNN-FPN.yaml\n",
      "Base-RCNN-FPN not available in Model Zoo!\n",
      "3 : Base-RetinaNet.yaml\n",
      "Base-RetinaNet not available in Model Zoo!\n",
      "4 : Cityscapes/mask_rcnn_R_50_FPN.yaml\n",
      "5 : COCO-Detection/faster_rcnn_R_101_C4_3x.yaml\n"
     ]
    },
    {
     "name": "stderr",
     "output_type": "stream",
     "text": [
      "model_final_298dad.pkl: 212MB [00:44, 4.78MB/s]                                                                        \n"
     ]
    },
    {
     "name": "stdout",
     "output_type": "stream",
     "text": [
      "6 : COCO-Detection/faster_rcnn_R_101_DC5_3x.yaml\n"
     ]
    },
    {
     "name": "stderr",
     "output_type": "stream",
     "text": [
      "model_final_3e0943.pkl: 739MB [02:09, 5.72MB/s]                                                                        \n"
     ]
    },
    {
     "name": "stdout",
     "output_type": "stream",
     "text": [
      "7 : COCO-Detection/faster_rcnn_R_101_FPN_3x.yaml\n"
     ]
    },
    {
     "name": "stderr",
     "output_type": "stream",
     "text": [
      "model_final_f6e8b1.pkl: 243MB [00:36, 6.75MB/s]                                                                        \n"
     ]
    },
    {
     "name": "stdout",
     "output_type": "stream",
     "text": [
      "8 : COCO-Detection/faster_rcnn_R_50_C4_1x.yaml\n"
     ]
    },
    {
     "name": "stderr",
     "output_type": "stream",
     "text": [
      "model_final_721ade.pkl: 136MB [00:19, 6.80MB/s]                                                                        \n"
     ]
    },
    {
     "name": "stdout",
     "output_type": "stream",
     "text": [
      "9 : COCO-Detection/faster_rcnn_R_50_C4_3x.yaml\n"
     ]
    },
    {
     "name": "stderr",
     "output_type": "stream",
     "text": [
      "model_final_f97cb7.pkl: 136MB [00:18, 7.16MB/s]                                                                        \n"
     ]
    },
    {
     "name": "stdout",
     "output_type": "stream",
     "text": [
      "10 : COCO-Detection/faster_rcnn_R_50_DC5_1x.yaml\n",
      "11 : COCO-Detection/faster_rcnn_R_50_DC5_3x.yaml\n"
     ]
    },
    {
     "name": "stderr",
     "output_type": "stream",
     "text": [
      "model_final_68d202.pkl: 663MB [01:26, 7.70MB/s]                                                                        \n"
     ]
    },
    {
     "name": "stdout",
     "output_type": "stream",
     "text": [
      "12 : COCO-Detection/faster_rcnn_R_50_FPN_1x.yaml\n"
     ]
    },
    {
     "name": "stderr",
     "output_type": "stream",
     "text": [
      "model_final_b275ba.pkl: 167MB [00:27, 6.07MB/s]                                                                        \n"
     ]
    },
    {
     "name": "stdout",
     "output_type": "stream",
     "text": [
      "13 : COCO-Detection/faster_rcnn_R_50_FPN_3x.yaml\n",
      "14 : COCO-Detection/faster_rcnn_X_101_32x8d_FPN_3x.yaml\n"
     ]
    },
    {
     "name": "stderr",
     "output_type": "stream",
     "text": [
      "model_final_68b088.pkl: 421MB [01:04, 6.53MB/s]                                                                        \n"
     ]
    },
    {
     "name": "stdout",
     "output_type": "stream",
     "text": [
      "15 : COCO-Detection/fast_rcnn_R_50_FPN_1x.yaml\n"
     ]
    },
    {
     "name": "stderr",
     "output_type": "stream",
     "text": [
      "model_final_e5f7ce.pkl: 165MB [00:26, 6.21MB/s]                                                                        \n",
      "Loading config G:\\segmentation\\detectron2\\detectron2\\model_zoo\\configs\\COCO-Detection\\../Base-RetinaNet.yaml with yaml.unsafe_load. Your machine may be at risk if the file contains malicious content.\n"
     ]
    },
    {
     "name": "stdout",
     "output_type": "stream",
     "text": [
      "\n",
      "16 : COCO-Detection/retinanet_R_101_FPN_3x.yaml\n"
     ]
    },
    {
     "name": "stderr",
     "output_type": "stream",
     "text": [
      "model_final_59f53c.pkl: 228MB [00:35, 6.48MB/s]                                                                        \n",
      "Loading config G:\\segmentation\\detectron2\\detectron2\\model_zoo\\configs\\COCO-Detection\\../Base-RetinaNet.yaml with yaml.unsafe_load. Your machine may be at risk if the file contains malicious content.\n"
     ]
    },
    {
     "name": "stdout",
     "output_type": "stream",
     "text": [
      "17 : COCO-Detection/retinanet_R_50_FPN_1x.yaml\n"
     ]
    },
    {
     "name": "stderr",
     "output_type": "stream",
     "text": [
      "model_final_b796dc.pkl: 152MB [00:22, 6.66MB/s]                                                                        \n",
      "Loading config G:\\segmentation\\detectron2\\detectron2\\model_zoo\\configs\\COCO-Detection\\../Base-RetinaNet.yaml with yaml.unsafe_load. Your machine may be at risk if the file contains malicious content.\n"
     ]
    },
    {
     "name": "stdout",
     "output_type": "stream",
     "text": [
      "18 : COCO-Detection/retinanet_R_50_FPN_3x.yaml\n"
     ]
    },
    {
     "name": "stderr",
     "output_type": "stream",
     "text": [
      "model_final_4cafe0.pkl: 152MB [00:21, 7.07MB/s]                                                                        \n"
     ]
    },
    {
     "name": "stdout",
     "output_type": "stream",
     "text": [
      "19 : COCO-Detection/rpn_R_50_C4_1x.yaml\n"
     ]
    },
    {
     "name": "stderr",
     "output_type": "stream",
     "text": [
      "model_final_450694.pkl: 72.4MB [00:11, 6.51MB/s]                                                                       \n"
     ]
    },
    {
     "name": "stdout",
     "output_type": "stream",
     "text": [
      "'instances'\n",
      "20 : COCO-Detection/rpn_R_50_FPN_1x.yaml\n",
      "'instances'\n",
      "21 : COCO-InstanceSegmentation/mask_rcnn_R_101_C4_3x.yaml\n"
     ]
    },
    {
     "name": "stderr",
     "output_type": "stream",
     "text": [
      "model_final_a2914c.pkl: 220MB [00:32, 6.83MB/s]                                                                        \n"
     ]
    },
    {
     "name": "stdout",
     "output_type": "stream",
     "text": [
      "22 : COCO-InstanceSegmentation/mask_rcnn_R_101_DC5_3x.yaml\n",
      "23 : COCO-InstanceSegmentation/mask_rcnn_R_101_FPN_3x.yaml\n",
      "24 : COCO-InstanceSegmentation/mask_rcnn_R_50_C4_1x.yaml\n"
     ]
    },
    {
     "name": "stderr",
     "output_type": "stream",
     "text": [
      "model_final_9243eb.pkl: 144MB [00:22, 6.34MB/s]                                                                        \n"
     ]
    },
    {
     "name": "stdout",
     "output_type": "stream",
     "text": [
      "25 : COCO-InstanceSegmentation/mask_rcnn_R_50_C4_3x.yaml\n"
     ]
    },
    {
     "name": "stderr",
     "output_type": "stream",
     "text": [
      "model_final_4ce675.pkl: 144MB [00:27, 5.29MB/s]                                                                        \n"
     ]
    },
    {
     "name": "stdout",
     "output_type": "stream",
     "text": [
      "26 : COCO-InstanceSegmentation/mask_rcnn_R_50_DC5_1x.yaml\n"
     ]
    },
    {
     "name": "stderr",
     "output_type": "stream",
     "text": [
      "model_final_4f86c3.pkl: 690MB [01:46, 6.48MB/s]                                                                        \n"
     ]
    },
    {
     "name": "stdout",
     "output_type": "stream",
     "text": [
      "27 : COCO-InstanceSegmentation/mask_rcnn_R_50_DC5_3x.yaml\n"
     ]
    },
    {
     "name": "stderr",
     "output_type": "stream",
     "text": [
      "model_final_84107b.pkl: 690MB [01:40, 6.88MB/s]                                                                        \n"
     ]
    },
    {
     "name": "stdout",
     "output_type": "stream",
     "text": [
      "28 : COCO-InstanceSegmentation/mask_rcnn_R_50_FPN_1x.yaml\n"
     ]
    },
    {
     "name": "stderr",
     "output_type": "stream",
     "text": [
      "model_final_a54504.pkl: 178MB [00:33, 5.37MB/s]                                                                        \n"
     ]
    },
    {
     "name": "stdout",
     "output_type": "stream",
     "text": [
      "29 : COCO-InstanceSegmentation/mask_rcnn_R_50_FPN_3x.yaml\n",
      "30 : COCO-InstanceSegmentation/mask_rcnn_X_101_32x8d_FPN_3x.yaml\n",
      "31 : COCO-Keypoints/Base-Keypoint-RCNN-FPN.yaml\n",
      "COCO-Keypoints/Base-Keypoint-RCNN-FPN not available in Model Zoo!\n",
      "32 : COCO-Keypoints/keypoint_rcnn_R_101_FPN_3x.yaml\n"
     ]
    },
    {
     "name": "stderr",
     "output_type": "stream",
     "text": [
      "model_final_997cc7.pkl: 313MB [00:53, 5.85MB/s]                                                                        \n"
     ]
    },
    {
     "name": "stdout",
     "output_type": "stream",
     "text": [
      "33 : COCO-Keypoints/keypoint_rcnn_R_50_FPN_1x.yaml\n"
     ]
    },
    {
     "name": "stderr",
     "output_type": "stream",
     "text": [
      "model_final_04e291.pkl: 237MB [00:39, 6.07MB/s]                                                                        \n"
     ]
    },
    {
     "name": "stdout",
     "output_type": "stream",
     "text": [
      "34 : COCO-Keypoints/keypoint_rcnn_R_50_FPN_3x.yaml\n"
     ]
    },
    {
     "name": "stderr",
     "output_type": "stream",
     "text": [
      "model_final_a6e10b.pkl: 237MB [00:32, 7.25MB/s]                                                                        \n"
     ]
    },
    {
     "name": "stdout",
     "output_type": "stream",
     "text": [
      "35 : COCO-Keypoints/keypoint_rcnn_X_101_32x8d_FPN_3x.yaml\n"
     ]
    },
    {
     "name": "stderr",
     "output_type": "stream",
     "text": [
      "model_final_5ad38f.pkl: 491MB [01:06, 7.33MB/s]                                                                        \n"
     ]
    },
    {
     "name": "stdout",
     "output_type": "stream",
     "text": [
      "36 : COCO-PanopticSegmentation/Base-Panoptic-FPN.yaml\n",
      "COCO-PanopticSegmentation/Base-Panoptic-FPN not available in Model Zoo!\n",
      "37 : COCO-PanopticSegmentation/panoptic_fpn_R_101_3x.yaml\n"
     ]
    },
    {
     "name": "stderr",
     "output_type": "stream",
     "text": [
      "model_final_cafdb1.pkl: 261MB [00:37, 7.04MB/s]                                                                        \n"
     ]
    },
    {
     "name": "stdout",
     "output_type": "stream",
     "text": [
      "38 : COCO-PanopticSegmentation/panoptic_fpn_R_50_1x.yaml\n"
     ]
    },
    {
     "name": "stderr",
     "output_type": "stream",
     "text": [
      "model_final_dbfeb4.pkl: 184MB [00:26, 7.08MB/s]                                                                        \n"
     ]
    },
    {
     "name": "stdout",
     "output_type": "stream",
     "text": [
      "39 : COCO-PanopticSegmentation/panoptic_fpn_R_50_3x.yaml\n"
     ]
    },
    {
     "name": "stderr",
     "output_type": "stream",
     "text": [
      "model_final_c10459.pkl: 184MB [00:25, 7.28MB/s]                                                                        \n"
     ]
    },
    {
     "name": "stdout",
     "output_type": "stream",
     "text": [
      "40 : Detectron1-Comparisons/faster_rcnn_R_50_FPN_noaug_1x.yaml\n"
     ]
    },
    {
     "name": "stderr",
     "output_type": "stream",
     "text": [
      "model_final_7ab50c.pkl: 167MB [00:22, 7.40MB/s]                                                                        \n"
     ]
    },
    {
     "name": "stdout",
     "output_type": "stream",
     "text": [
      "41 : Detectron1-Comparisons/keypoint_rcnn_R_50_FPN_1x.yaml\n"
     ]
    },
    {
     "name": "stderr",
     "output_type": "stream",
     "text": [
      "model_final_cce136.pkl: 237MB [00:33, 7.03MB/s]                                                                        \n"
     ]
    },
    {
     "name": "stdout",
     "output_type": "stream",
     "text": [
      "42 : Detectron1-Comparisons/mask_rcnn_R_50_FPN_noaug_1x.yaml\n"
     ]
    },
    {
     "name": "stderr",
     "output_type": "stream",
     "text": [
      "model_final_62ca52.pkl: 178MB [00:25, 6.90MB/s]                                                                        \n"
     ]
    },
    {
     "name": "stdout",
     "output_type": "stream",
     "text": [
      "43 : LVIS-InstanceSegmentation/mask_rcnn_R_101_FPN_1x.yaml\n"
     ]
    },
    {
     "name": "stderr",
     "output_type": "stream",
     "text": [
      "model_final_824ab5.pkl: 279MB [00:32, 8.62MB/s]                                                                        \n"
     ]
    },
    {
     "name": "stdout",
     "output_type": "stream",
     "text": [
      "44 : LVIS-InstanceSegmentation/mask_rcnn_R_50_FPN_1x.yaml\n"
     ]
    },
    {
     "name": "stderr",
     "output_type": "stream",
     "text": [
      "model_final_571f7c.pkl: 203MB [00:29, 6.93MB/s]                                                                        \n"
     ]
    },
    {
     "name": "stdout",
     "output_type": "stream",
     "text": [
      "45 : LVIS-InstanceSegmentation/mask_rcnn_X_101_32x8d_FPN_1x.yaml\n"
     ]
    },
    {
     "name": "stderr",
     "output_type": "stream",
     "text": [
      "model_final_5e3439.pkl: 456MB [00:53, 8.55MB/s]                                                                        \n"
     ]
    },
    {
     "name": "stdout",
     "output_type": "stream",
     "text": [
      "46 : Misc/cascade_mask_rcnn_R_50_FPN_1x.yaml\n"
     ]
    },
    {
     "name": "stderr",
     "output_type": "stream",
     "text": [
      "model_final_e9d89b.pkl: 288MB [00:34, 8.30MB/s]                                                                        \n"
     ]
    },
    {
     "name": "stdout",
     "output_type": "stream",
     "text": [
      "47 : Misc/cascade_mask_rcnn_R_50_FPN_3x.yaml\n"
     ]
    },
    {
     "name": "stderr",
     "output_type": "stream",
     "text": [
      "model_final_480dd8.pkl: 288MB [00:34, 8.38MB/s]                                                                        \n"
     ]
    },
    {
     "name": "stdout",
     "output_type": "stream",
     "text": [
      "48 : Misc/cascade_mask_rcnn_X_152_32x8d_FPN_IN5k_gn_dconv.yaml\n"
     ]
    },
    {
     "name": "stderr",
     "output_type": "stream",
     "text": [
      "model_0039999_e76410.pkl:  78%|█████████████████████████████████████████            | 568M/732M [01:15<00:21, 7.53MB/s]\n",
      "Failed to download https://dl.fbaipublicfiles.com/detectron2/Misc/cascade_mask_rcnn_X_152_32x8d_FPN_IN5k_gn_dconv/18131413/model_0039999_e76410.pkl\n"
     ]
    },
    {
     "name": "stdout",
     "output_type": "stream",
     "text": [
      "[Errno 28] No space left on device\n",
      "49 : Misc/mask_rcnn_R_50_FPN_1x_cls_agnostic.yaml\n",
      "Misc/mask_rcnn_R_50_FPN_1x_cls_agnostic not available in Model Zoo!\n",
      "50 : Misc/mask_rcnn_R_50_FPN_1x_dconv_c3-c5.yaml\n"
     ]
    },
    {
     "name": "stderr",
     "output_type": "stream",
     "text": [
      "model_final_65c703.pkl: 180MB [00:23, 7.62MB/s]                                                                        \n"
     ]
    },
    {
     "name": "stdout",
     "output_type": "stream",
     "text": [
      "51 : Misc/mask_rcnn_R_50_FPN_3x_dconv_c3-c5.yaml\n"
     ]
    },
    {
     "name": "stderr",
     "output_type": "stream",
     "text": [
      "model_final_821d0b.pkl: 180MB [00:23, 7.77MB/s]                                                                        \n"
     ]
    },
    {
     "name": "stdout",
     "output_type": "stream",
     "text": [
      "52 : Misc/mask_rcnn_R_50_FPN_3x_gn.yaml\n"
     ]
    },
    {
     "name": "stderr",
     "output_type": "stream",
     "text": [
      "model_final_dc5d9e.pkl: 183MB [00:22, 8.30MB/s]                                                                        \n"
     ]
    },
    {
     "name": "stdout",
     "output_type": "stream",
     "text": [
      "53 : Misc/mask_rcnn_R_50_FPN_3x_syncbn.yaml\n"
     ]
    },
    {
     "name": "stderr",
     "output_type": "stream",
     "text": [
      "model_final_3b3c51.pkl:  13%|███████▏                                              | 24.6M/183M [00:04<00:31, 4.96MB/s]\n",
      "Failed to download https://dl.fbaipublicfiles.com/detectron2/Misc/mask_rcnn_R_50_FPN_3x_syncbn/169527823/model_final_3b3c51.pkl\n"
     ]
    },
    {
     "name": "stdout",
     "output_type": "stream",
     "text": [
      "[Errno 28] No space left on device\n",
      "54 : Misc/panoptic_fpn_R_101_dconv_cascade_gn_3x.yaml\n"
     ]
    },
    {
     "name": "stderr",
     "output_type": "stream",
     "text": [
      "model_final_be35db.pkl:   6%|███▍                                                  | 24.0M/376M [00:04<01:09, 5.08MB/s]\n",
      "Failed to download https://dl.fbaipublicfiles.com/detectron2/Misc/panoptic_fpn_R_101_dconv_cascade_gn_3x/139797668/model_final_be35db.pkl\n"
     ]
    },
    {
     "name": "stdout",
     "output_type": "stream",
     "text": [
      "[Errno 28] No space left on device\n",
      "55 : Misc/scratch_mask_rcnn_R_50_FPN_3x_gn.yaml\n"
     ]
    },
    {
     "name": "stderr",
     "output_type": "stream",
     "text": [
      "model_final_01ca85.pkl:  12%|██████▋                                               | 22.7M/183M [00:04<00:33, 4.84MB/s]\n",
      "Failed to download https://dl.fbaipublicfiles.com/detectron2/Misc/scratch_mask_rcnn_R_50_FPN_3x_gn/138602908/model_final_01ca85.pkl\n"
     ]
    },
    {
     "name": "stdout",
     "output_type": "stream",
     "text": [
      "[Errno 28] No space left on device\n",
      "56 : Misc/semantic_R_50_FPN_1x.yaml\n",
      "Misc/semantic_R_50_FPN_1x not available in Model Zoo!\n",
      "57 : PascalVOC-Detection/faster_rcnn_R_50_C4.yaml\n"
     ]
    },
    {
     "name": "stderr",
     "output_type": "stream",
     "text": [
      "model_final_b1acc2.pkl:  16%|████████▉                                             | 22.0M/133M [00:04<00:23, 4.81MB/s]\n",
      "Failed to download https://dl.fbaipublicfiles.com/detectron2/PascalVOC-Detection/faster_rcnn_R_50_C4/142202221/model_final_b1acc2.pkl\n"
     ]
    },
    {
     "name": "stdout",
     "output_type": "stream",
     "text": [
      "[Errno 28] No space left on device\n",
      "58 : PascalVOC-Detection/faster_rcnn_R_50_FPN.yaml\n",
      "PascalVOC-Detection/faster_rcnn_R_50_FPN not available in Model Zoo!\n",
      "59 : quick_schedules/fast_rcnn_R_50_FPN_inference_acc_test.yaml\n",
      "quick_schedules/fast_rcnn_R_50_FPN_inference_acc_test not available in Model Zoo!\n",
      "60 : quick_schedules/fast_rcnn_R_50_FPN_instant_test.yaml\n",
      "quick_schedules/fast_rcnn_R_50_FPN_instant_test not available in Model Zoo!\n",
      "61 : quick_schedules/keypoint_rcnn_R_50_FPN_inference_acc_test.yaml\n",
      "quick_schedules/keypoint_rcnn_R_50_FPN_inference_acc_test not available in Model Zoo!\n",
      "62 : quick_schedules/keypoint_rcnn_R_50_FPN_instant_test.yaml\n",
      "quick_schedules/keypoint_rcnn_R_50_FPN_instant_test not available in Model Zoo!\n",
      "63 : quick_schedules/keypoint_rcnn_R_50_FPN_normalized_training_acc_test.yaml\n",
      "quick_schedules/keypoint_rcnn_R_50_FPN_normalized_training_acc_test not available in Model Zoo!\n",
      "64 : quick_schedules/keypoint_rcnn_R_50_FPN_training_acc_test.yaml\n",
      "quick_schedules/keypoint_rcnn_R_50_FPN_training_acc_test not available in Model Zoo!\n",
      "65 : quick_schedules/mask_rcnn_R_50_C4_GCN_instant_test.yaml\n",
      "quick_schedules/mask_rcnn_R_50_C4_GCN_instant_test not available in Model Zoo!\n",
      "66 : quick_schedules/mask_rcnn_R_50_C4_GCV_instant_test.yaml\n",
      "quick_schedules/mask_rcnn_R_50_C4_GCV_instant_test not available in Model Zoo!\n",
      "67 : quick_schedules/mask_rcnn_R_50_C4_inference_acc_test.yaml\n",
      "quick_schedules/mask_rcnn_R_50_C4_inference_acc_test not available in Model Zoo!\n",
      "68 : quick_schedules/mask_rcnn_R_50_C4_instant_test.yaml\n",
      "quick_schedules/mask_rcnn_R_50_C4_instant_test not available in Model Zoo!\n",
      "69 : quick_schedules/mask_rcnn_R_50_C4_training_acc_test.yaml\n",
      "quick_schedules/mask_rcnn_R_50_C4_training_acc_test not available in Model Zoo!\n",
      "70 : quick_schedules/mask_rcnn_R_50_DC5_inference_acc_test.yaml\n",
      "quick_schedules/mask_rcnn_R_50_DC5_inference_acc_test not available in Model Zoo!\n",
      "71 : quick_schedules/mask_rcnn_R_50_FPN_inference_acc_test.yaml\n",
      "quick_schedules/mask_rcnn_R_50_FPN_inference_acc_test not available in Model Zoo!\n",
      "72 : quick_schedules/mask_rcnn_R_50_FPN_instant_test.yaml\n",
      "quick_schedules/mask_rcnn_R_50_FPN_instant_test not available in Model Zoo!\n",
      "73 : quick_schedules/mask_rcnn_R_50_FPN_training_acc_test.yaml\n",
      "quick_schedules/mask_rcnn_R_50_FPN_training_acc_test not available in Model Zoo!\n",
      "74 : quick_schedules/panoptic_fpn_R_50_inference_acc_test.yaml\n"
     ]
    },
    {
     "name": "stderr",
     "output_type": "stream",
     "text": [
      "Loading config G:\\segmentation\\detectron2\\detectron2\\model_zoo\\configs\\quick_schedules\\../COCO-Detection\\../Base-RetinaNet.yaml with yaml.unsafe_load. Your machine may be at risk if the file contains malicious content.\n",
      "Loading config G:\\segmentation\\detectron2\\detectron2\\model_zoo\\configs\\quick_schedules\\../COCO-Detection\\../Base-RetinaNet.yaml with yaml.unsafe_load. Your machine may be at risk if the file contains malicious content.\n"
     ]
    },
    {
     "name": "stdout",
     "output_type": "stream",
     "text": [
      "quick_schedules/panoptic_fpn_R_50_inference_acc_test not available in Model Zoo!\n",
      "75 : quick_schedules/panoptic_fpn_R_50_instant_test.yaml\n",
      "quick_schedules/panoptic_fpn_R_50_instant_test not available in Model Zoo!\n",
      "76 : quick_schedules/panoptic_fpn_R_50_training_acc_test.yaml\n",
      "quick_schedules/panoptic_fpn_R_50_training_acc_test not available in Model Zoo!\n",
      "77 : quick_schedules/retinanet_R_50_FPN_inference_acc_test.yaml\n",
      "quick_schedules/retinanet_R_50_FPN_inference_acc_test not available in Model Zoo!\n",
      "78 : quick_schedules/retinanet_R_50_FPN_instant_test.yaml\n",
      "quick_schedules/retinanet_R_50_FPN_instant_test not available in Model Zoo!\n",
      "79 : quick_schedules/rpn_R_50_FPN_inference_acc_test.yaml\n",
      "quick_schedules/rpn_R_50_FPN_inference_acc_test not available in Model Zoo!\n",
      "80 : quick_schedules/rpn_R_50_FPN_instant_test.yaml\n",
      "quick_schedules/rpn_R_50_FPN_instant_test not available in Model Zoo!\n",
      "81 : quick_schedules/semantic_R_50_FPN_inference_acc_test.yaml\n",
      "quick_schedules/semantic_R_50_FPN_inference_acc_test not available in Model Zoo!\n",
      "82 : quick_schedules/semantic_R_50_FPN_instant_test.yaml\n",
      "quick_schedules/semantic_R_50_FPN_instant_test not available in Model Zoo!\n",
      "83 : quick_schedules/semantic_R_50_FPN_training_acc_test.yaml\n",
      "quick_schedules/semantic_R_50_FPN_training_acc_test not available in Model Zoo!\n"
     ]
    }
   ],
   "source": [
    "import time\n",
    "test_images=os.path.join(BASE_DIR, 'test_images')\n",
    "if not os.path.exists(test_images):\n",
    "    os.mkdir(test_images)\n",
    "for i, y in enumerate(yaml_files):\n",
    "    print(i,\":\",y)\n",
    "    try:\n",
    "        cfg = get_cfg()\n",
    "        # add project-specific config (e.g., TensorMask) here if you're not running a model in detectron2's core library\n",
    "        cfg.merge_from_file(model_zoo.get_config_file(y))\n",
    "        cfg.MODEL.ROI_HEADS.SCORE_THRESH_TEST = 0.5  # set threshold for this model\n",
    "        # Find a model from detectron2's model zoo. You can use the https://dl.fbaipublicfiles... url as well\n",
    "        cfg.MODEL.WEIGHTS = model_zoo.get_checkpoint_url(y)\n",
    "        predictor = DefaultPredictor(cfg)\n",
    "        outputs = predictor(im)\n",
    "        v = Visualizer(im[:, :, ::-1], MetadataCatalog.get(cfg.DATASETS.TRAIN[0]), scale=1.2)\n",
    "        v = v.draw_instance_predictions(outputs[\"instances\"].to(\"cpu\"))\n",
    "        filename=os.path.join(test_images, y.split('/')[-1].replace('.yaml','.jpg'))\n",
    "        cv2.imwrite(filename, v.get_image()[:, :, ::-1]) \n",
    "#         imshow(v.get_image()[:, :, ::-1],cmap='gray')\n",
    "    except Exception as e:\n",
    "        print(e)"
   ]
  },
  {
   "cell_type": "code",
   "execution_count": 86,
   "metadata": {},
   "outputs": [
    {
     "name": "stdout",
     "output_type": "stream",
     "text": [
      "0 : Base-RCNN-C4.yaml\n",
      "string index out of range\n",
      "1 : Base-RCNN-DilatedC5.yaml\n",
      "l not available in Model Zoo!\n",
      "2 : Base-RCNN-FPN.yaml\n",
      "string index out of range\n",
      "3 : Base-RetinaNet.yaml\n",
      "string index out of range\n",
      "4 : Cityscapes/mask_rcnn_R_50_FPN.yaml\n",
      "5 not available in Model Zoo!\n",
      "5 : COCO-Detection/faster_rcnn_R_101_C4_3x.yaml\n",
      "c not available in Model Zoo!\n",
      "6 : COCO-Detection/faster_rcnn_R_101_DC5_3x.yaml\n",
      "c not available in Model Zoo!\n",
      "7 : COCO-Detection/faster_rcnn_R_101_FPN_3x.yaml\n",
      "c not available in Model Zoo!\n",
      "8 : COCO-Detection/faster_rcnn_R_50_C4_1x.yaml\n",
      "c not available in Model Zoo!\n",
      "9 : COCO-Detection/faster_rcnn_R_50_C4_3x.yaml\n",
      "c not available in Model Zoo!\n",
      "10 : COCO-Detection/faster_rcnn_R_50_DC5_1x.yaml\n",
      "c not available in Model Zoo!\n",
      "11 : COCO-Detection/faster_rcnn_R_50_DC5_3x.yaml\n",
      "c not available in Model Zoo!\n",
      "12 : COCO-Detection/faster_rcnn_R_50_FPN_1x.yaml\n",
      "c not available in Model Zoo!\n",
      "13 : COCO-Detection/faster_rcnn_R_50_FPN_3x.yaml\n",
      "c not available in Model Zoo!\n",
      "14 : COCO-Detection/faster_rcnn_X_101_32x8d_FPN_3x.yaml\n",
      "c not available in Model Zoo!\n",
      "15 : COCO-Detection/fast_rcnn_R_50_FPN_1x.yaml\n",
      "n not available in Model Zoo!\n",
      "16 : COCO-Detection/retinanet_R_101_FPN_3x.yaml\n",
      "t not available in Model Zoo!\n",
      "17 : COCO-Detection/retinanet_R_50_FPN_1x.yaml\n",
      "t not available in Model Zoo!\n",
      "18 : COCO-Detection/retinanet_R_50_FPN_3x.yaml\n",
      "t not available in Model Zoo!\n",
      "19 : COCO-Detection/rpn_R_50_C4_1x.yaml\n",
      "_ not available in Model Zoo!\n",
      "20 : COCO-Detection/rpn_R_50_FPN_1x.yaml\n",
      "_ not available in Model Zoo!\n",
      "21 : COCO-InstanceSegmentation/mask_rcnn_R_101_C4_3x.yaml\n",
      "o not available in Model Zoo!\n",
      "22 : COCO-InstanceSegmentation/mask_rcnn_R_101_DC5_3x.yaml\n",
      "o not available in Model Zoo!\n",
      "23 : COCO-InstanceSegmentation/mask_rcnn_R_101_FPN_3x.yaml\n",
      "o not available in Model Zoo!\n",
      "24 : COCO-InstanceSegmentation/mask_rcnn_R_50_C4_1x.yaml\n",
      "o not available in Model Zoo!\n",
      "25 : COCO-InstanceSegmentation/mask_rcnn_R_50_C4_3x.yaml\n",
      "o not available in Model Zoo!\n",
      "26 : COCO-InstanceSegmentation/mask_rcnn_R_50_DC5_1x.yaml\n",
      "o not available in Model Zoo!\n",
      "27 : COCO-InstanceSegmentation/mask_rcnn_R_50_DC5_3x.yaml\n",
      "o not available in Model Zoo!\n",
      "28 : COCO-InstanceSegmentation/mask_rcnn_R_50_FPN_1x.yaml\n",
      "o not available in Model Zoo!\n",
      "29 : COCO-InstanceSegmentation/mask_rcnn_R_50_FPN_3x.yaml\n",
      "o not available in Model Zoo!\n",
      "30 : COCO-InstanceSegmentation/mask_rcnn_X_101_32x8d_FPN_3x.yaml\n",
      "o not available in Model Zoo!\n",
      "31 : COCO-Keypoints/Base-Keypoint-RCNN-FPN.yaml\n",
      "p not available in Model Zoo!\n",
      "32 : COCO-Keypoints/keypoint_rcnn_R_101_FPN_3x.yaml\n",
      "_ not available in Model Zoo!\n",
      "33 : COCO-Keypoints/keypoint_rcnn_R_50_FPN_1x.yaml\n",
      "_ not available in Model Zoo!\n",
      "34 : COCO-Keypoints/keypoint_rcnn_R_50_FPN_3x.yaml\n",
      "_ not available in Model Zoo!\n",
      "35 : COCO-Keypoints/keypoint_rcnn_X_101_32x8d_FPN_3x.yaml\n",
      "_ not available in Model Zoo!\n",
      "36 : COCO-PanopticSegmentation/Base-Panoptic-FPN.yaml\n",
      "o not available in Model Zoo!\n",
      "37 : COCO-PanopticSegmentation/panoptic_fpn_R_101_3x.yaml\n",
      "o not available in Model Zoo!\n",
      "38 : COCO-PanopticSegmentation/panoptic_fpn_R_50_1x.yaml\n",
      "o not available in Model Zoo!\n",
      "39 : COCO-PanopticSegmentation/panoptic_fpn_R_50_3x.yaml\n",
      "o not available in Model Zoo!\n",
      "40 : Detectron1-Comparisons/faster_rcnn_R_50_FPN_noaug_1x.yaml\n",
      "f not available in Model Zoo!\n",
      "41 : Detectron1-Comparisons/keypoint_rcnn_R_50_FPN_1x.yaml\n",
      "k not available in Model Zoo!\n",
      "42 : Detectron1-Comparisons/mask_rcnn_R_50_FPN_noaug_1x.yaml\n",
      "m not available in Model Zoo!\n",
      "43 : LVIS-InstanceSegmentation/mask_rcnn_R_101_FPN_1x.yaml\n",
      "o not available in Model Zoo!\n",
      "44 : LVIS-InstanceSegmentation/mask_rcnn_R_50_FPN_1x.yaml\n",
      "o not available in Model Zoo!\n",
      "45 : LVIS-InstanceSegmentation/mask_rcnn_X_101_32x8d_FPN_1x.yaml\n",
      "o not available in Model Zoo!\n",
      "46 : Misc/cascade_mask_rcnn_R_50_FPN_1x.yaml\n",
      "R not available in Model Zoo!\n",
      "47 : Misc/cascade_mask_rcnn_R_50_FPN_3x.yaml\n",
      "R not available in Model Zoo!\n",
      "48 : Misc/cascade_mask_rcnn_X_152_32x8d_FPN_IN5k_gn_dconv.yaml\n",
      "X not available in Model Zoo!\n",
      "49 : Misc/mask_rcnn_R_50_FPN_1x_cls_agnostic.yaml\n",
      "_ not available in Model Zoo!\n",
      "50 : Misc/mask_rcnn_R_50_FPN_1x_dconv_c3-c5.yaml\n",
      "_ not available in Model Zoo!\n",
      "51 : Misc/mask_rcnn_R_50_FPN_3x_dconv_c3-c5.yaml\n",
      "_ not available in Model Zoo!\n",
      "52 : Misc/mask_rcnn_R_50_FPN_3x_gn.yaml\n",
      "_ not available in Model Zoo!\n",
      "53 : Misc/mask_rcnn_R_50_FPN_3x_syncbn.yaml\n",
      "_ not available in Model Zoo!\n",
      "54 : Misc/panoptic_fpn_R_101_dconv_cascade_gn_3x.yaml\n",
      "_ not available in Model Zoo!\n",
      "55 : Misc/scratch_mask_rcnn_R_50_FPN_3x_gn.yaml\n",
      "R not available in Model Zoo!\n",
      "56 : Misc/semantic_R_50_FPN_1x.yaml\n",
      "1 not available in Model Zoo!\n",
      "57 : PascalVOC-Detection/faster_rcnn_R_50_C4.yaml\n",
      "t not available in Model Zoo!\n",
      "58 : PascalVOC-Detection/faster_rcnn_R_50_FPN.yaml\n",
      "t not available in Model Zoo!\n",
      "59 : quick_schedules/fast_rcnn_R_50_FPN_inference_acc_test.yaml\n",
      "n not available in Model Zoo!\n",
      "60 : quick_schedules/fast_rcnn_R_50_FPN_instant_test.yaml\n",
      "n not available in Model Zoo!\n",
      "61 : quick_schedules/keypoint_rcnn_R_50_FPN_inference_acc_test.yaml\n",
      "t not available in Model Zoo!\n",
      "62 : quick_schedules/keypoint_rcnn_R_50_FPN_instant_test.yaml\n",
      "t not available in Model Zoo!\n",
      "63 : quick_schedules/keypoint_rcnn_R_50_FPN_normalized_training_acc_test.yaml\n",
      "t not available in Model Zoo!\n",
      "64 : quick_schedules/keypoint_rcnn_R_50_FPN_training_acc_test.yaml\n",
      "t not available in Model Zoo!\n",
      "65 : quick_schedules/mask_rcnn_R_50_C4_GCN_instant_test.yaml\n",
      "n not available in Model Zoo!\n",
      "66 : quick_schedules/mask_rcnn_R_50_C4_GCV_instant_test.yaml\n",
      "n not available in Model Zoo!\n",
      "67 : quick_schedules/mask_rcnn_R_50_C4_inference_acc_test.yaml\n",
      "n not available in Model Zoo!\n",
      "68 : quick_schedules/mask_rcnn_R_50_C4_instant_test.yaml\n",
      "n not available in Model Zoo!\n",
      "69 : quick_schedules/mask_rcnn_R_50_C4_training_acc_test.yaml\n",
      "n not available in Model Zoo!\n",
      "70 : quick_schedules/mask_rcnn_R_50_DC5_inference_acc_test.yaml\n",
      "n not available in Model Zoo!\n",
      "71 : quick_schedules/mask_rcnn_R_50_FPN_inference_acc_test.yaml\n",
      "n not available in Model Zoo!\n",
      "72 : quick_schedules/mask_rcnn_R_50_FPN_instant_test.yaml\n",
      "n not available in Model Zoo!\n",
      "73 : quick_schedules/mask_rcnn_R_50_FPN_training_acc_test.yaml\n",
      "n not available in Model Zoo!\n",
      "74 : quick_schedules/panoptic_fpn_R_50_inference_acc_test.yaml\n",
      "c not available in Model Zoo!\n",
      "75 : quick_schedules/panoptic_fpn_R_50_instant_test.yaml\n",
      "c not available in Model Zoo!\n",
      "76 : quick_schedules/panoptic_fpn_R_50_training_acc_test.yaml\n",
      "c not available in Model Zoo!\n",
      "77 : quick_schedules/retinanet_R_50_FPN_inference_acc_test.yaml\n",
      "e not available in Model Zoo!\n",
      "78 : quick_schedules/retinanet_R_50_FPN_instant_test.yaml\n",
      "e not available in Model Zoo!\n",
      "79 : quick_schedules/rpn_R_50_FPN_inference_acc_test.yaml\n",
      "0 not available in Model Zoo!\n",
      "80 : quick_schedules/rpn_R_50_FPN_instant_test.yaml\n",
      "0 not available in Model Zoo!\n",
      "81 : quick_schedules/semantic_R_50_FPN_inference_acc_test.yaml\n",
      "c not available in Model Zoo!\n",
      "82 : quick_schedules/semantic_R_50_FPN_instant_test.yaml\n",
      "c not available in Model Zoo!\n",
      "83 : quick_schedules/semantic_R_50_FPN_training_acc_test.yaml\n",
      "c not available in Model Zoo!\n"
     ]
    }
   ],
   "source": [
    "\n",
    "# cv2.imshow(\"test\", outputs)\n",
    "# cv2.waitKey(0)\n",
    "# cv2.destroyAllWindows()"
   ]
  },
  {
   "cell_type": "code",
   "execution_count": null,
   "metadata": {},
   "outputs": [],
   "source": []
  }
 ],
 "metadata": {
  "kernelspec": {
   "display_name": "Python 3",
   "language": "python",
   "name": "python3"
  },
  "language_info": {
   "codemirror_mode": {
    "name": "ipython",
    "version": 3
   },
   "file_extension": ".py",
   "mimetype": "text/x-python",
   "name": "python",
   "nbconvert_exporter": "python",
   "pygments_lexer": "ipython3",
   "version": "3.6.10"
  }
 },
 "nbformat": 4,
 "nbformat_minor": 4
}
